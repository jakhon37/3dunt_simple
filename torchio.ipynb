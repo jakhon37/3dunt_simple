{
 "cells": [
  {
   "cell_type": "code",
   "execution_count": null,
   "id": "123458ec",
   "metadata": {},
   "outputs": [],
   "source": []
  },
  {
   "cell_type": "markdown",
   "id": "f8d94298",
   "metadata": {},
   "source": [
    "# importing libraries"
   ]
  },
  {
   "cell_type": "code",
   "execution_count": 22,
   "id": "8c50d03d",
   "metadata": {},
   "outputs": [],
   "source": [
    "import torch\n",
    "import torch.nn.functional as F\n",
    "from torchvision.utils import make_grid, save_image\n",
    "torch.manual_seed(0)\n",
    "import torchio as tio\n",
    "from torchio import AFFINE, DATA\n",
    "import numpy as np\n",
    "import nibabel as nib\n",
    "from unet import UNet\n",
    "from scipy import stats\n",
    "import SimpleITK as sitk\n",
    "import matplotlib.pyplot as plt\n",
    "from IPython import display\n",
    "from tqdm.notebook import tqdm\n",
    "\n",
    "from os import path\n",
    "\n",
    "import os\n",
    "import glob"
   ]
  },
  {
   "cell_type": "markdown",
   "id": "9513ed9a",
   "metadata": {},
   "source": [
    "# Load Dataset\n",
    "\n"
   ]
  },
  {
   "cell_type": "code",
   "execution_count": 23,
   "id": "b20218e0",
   "metadata": {},
   "outputs": [],
   "source": [
    "dataset_url = 'https://www.dropbox.com/s/ogxjwjxdv5mieah/ixi_tiny.zip?dl=0'\n",
    "dataset_path = 'ixi_tiny.zip'\n",
    "dataset_dir_name = 'ixi_tiny'\n",
    "dataset_path = (r\"C:\\Users\\jakho\\PycharmProjects\\projects\\tutorial\\3dunt_simple\\data\\Original\")\n",
    "dataset_dir = dataset_dir_name\n",
    "histogram_landmarks_path = 'landmarks.npy'"
   ]
  },
  {
   "cell_type": "code",
   "execution_count": null,
   "id": "3de91f03",
   "metadata": {},
   "outputs": [],
   "source": []
  },
  {
   "cell_type": "code",
   "execution_count": 8,
   "id": "77e3b4bb",
   "metadata": {},
   "outputs": [],
   "source": [
    "data_path = (r\"C:\\Users\\jakho\\PycharmProjects\\projects\\tutorial\\3dunt_simple\\data\\Original\")\n",
    "\n",
    "data_list = glob.glob(os.path.join(data_path, '*'))\n",
    "\n",
    "label_name = 'label.nii'\n",
    "data_name = 'image.nii'\n",
    "\n",
    "data_list.sort()\n",
    "list_all = [{'data': os.path.join(path, data_name), 'label': os.path.join(path, label_name)} for path in data_list]\n"
   ]
  },
  {
   "cell_type": "code",
   "execution_count": null,
   "id": "62e70802",
   "metadata": {},
   "outputs": [],
   "source": []
  },
  {
   "cell_type": "code",
   "execution_count": 24,
   "id": "43c3ecdd",
   "metadata": {},
   "outputs": [
    {
     "ename": "TypeError",
     "evalue": "unsupported operand type(s) for /: 'str' and 'str'",
     "output_type": "error",
     "traceback": [
      "\u001b[1;31m---------------------------------------------------------------------------\u001b[0m",
      "\u001b[1;31mTypeError\u001b[0m                                 Traceback (most recent call last)",
      "\u001b[1;32m~\\AppData\\Local\\Temp/ipykernel_13616/1837988400.py\u001b[0m in \u001b[0;36m<module>\u001b[1;34m\u001b[0m\n\u001b[1;32m----> 1\u001b[1;33m \u001b[0mimages_dir\u001b[0m \u001b[1;33m=\u001b[0m \u001b[0mdataset_dir\u001b[0m \u001b[1;33m/\u001b[0m \u001b[1;34m'image'\u001b[0m\u001b[1;33m\u001b[0m\u001b[1;33m\u001b[0m\u001b[0m\n\u001b[0m\u001b[0;32m      2\u001b[0m \u001b[0mlabels_dir\u001b[0m \u001b[1;33m=\u001b[0m \u001b[0mdataset_dir\u001b[0m \u001b[1;33m/\u001b[0m \u001b[1;34m'label'\u001b[0m\u001b[1;33m\u001b[0m\u001b[1;33m\u001b[0m\u001b[0m\n\u001b[0;32m      3\u001b[0m \u001b[0mimage_paths\u001b[0m \u001b[1;33m=\u001b[0m \u001b[0msorted\u001b[0m\u001b[1;33m(\u001b[0m\u001b[0mimages_dir\u001b[0m\u001b[1;33m.\u001b[0m\u001b[0mglob\u001b[0m\u001b[1;33m(\u001b[0m\u001b[1;34m'*.nii.gz'\u001b[0m\u001b[1;33m)\u001b[0m\u001b[1;33m)\u001b[0m\u001b[1;33m\u001b[0m\u001b[1;33m\u001b[0m\u001b[0m\n\u001b[0;32m      4\u001b[0m \u001b[0mlabel_paths\u001b[0m \u001b[1;33m=\u001b[0m \u001b[0msorted\u001b[0m\u001b[1;33m(\u001b[0m\u001b[0mlabels_dir\u001b[0m\u001b[1;33m.\u001b[0m\u001b[0mglob\u001b[0m\u001b[1;33m(\u001b[0m\u001b[1;34m'*.nii.gz'\u001b[0m\u001b[1;33m)\u001b[0m\u001b[1;33m)\u001b[0m\u001b[1;33m\u001b[0m\u001b[1;33m\u001b[0m\u001b[0m\n\u001b[0;32m      5\u001b[0m \u001b[1;32massert\u001b[0m \u001b[0mlen\u001b[0m\u001b[1;33m(\u001b[0m\u001b[0mimage_paths\u001b[0m\u001b[1;33m)\u001b[0m \u001b[1;33m==\u001b[0m \u001b[0mlen\u001b[0m\u001b[1;33m(\u001b[0m\u001b[0mlabel_paths\u001b[0m\u001b[1;33m)\u001b[0m\u001b[1;33m\u001b[0m\u001b[1;33m\u001b[0m\u001b[0m\n",
      "\u001b[1;31mTypeError\u001b[0m: unsupported operand type(s) for /: 'str' and 'str'"
     ]
    }
   ],
   "source": [
    "images_dir = dataset_dir / 'image'\n",
    "labels_dir = dataset_dir / 'label'\n",
    "image_paths = sorted(images_dir.glob('*.nii.gz'))\n",
    "label_paths = sorted(labels_dir.glob('*.nii.gz'))\n",
    "assert len(image_paths) == len(label_paths)\n",
    "subjects = []\n",
    "for (image_path, label_path) in zip(image_paths, label_paths):\n",
    "    subject = tio.Subject(\n",
    "        mri=tio.ScalarImage(image_path),\n",
    "        brain=tio.LabelMap(label_path),\n",
    "    )\n",
    "    subjects.append(subject)\n",
    "dataset = tio.SubjectsDataset(subjects)\n",
    "print('Dataset size:', len(dataset), 'subjects')\n"
   ]
  },
  {
   "cell_type": "code",
   "execution_count": null,
   "id": "81b22984",
   "metadata": {},
   "outputs": [],
   "source": [
    " Dataset size: 566 subjects\n",
    " one_subject = dataset[0]\n",
    " print(one_subject)\n",
    " print(one_subject.mri)\n",
    " show_subject(tio.ToCanonical()(one_subject), 'mri', label_name='brain')\n",
    " Subject(Keys: ('mri', 'brain'); images: 2)\n",
    " ScalarImage(shape: (1, 83, 44, 55); spacing: (2.18, 4.13, 3.95); orientation: SRA+; memory: 784.6 KiB; type: intensity) "
   ]
  }
 ],
 "metadata": {
  "kernelspec": {
   "display_name": "Python 3 (ipykernel)",
   "language": "python",
   "name": "python3"
  },
  "language_info": {
   "codemirror_mode": {
    "name": "ipython",
    "version": 3
   },
   "file_extension": ".py",
   "mimetype": "text/x-python",
   "name": "python",
   "nbconvert_exporter": "python",
   "pygments_lexer": "ipython3",
   "version": "3.9.6"
  }
 },
 "nbformat": 4,
 "nbformat_minor": 5
}
